{
  "nbformat": 4,
  "nbformat_minor": 0,
  "metadata": {
    "colab": {
      "provenance": []
    },
    "kernelspec": {
      "name": "python3",
      "display_name": "Python 3"
    },
    "language_info": {
      "name": "python"
    }
  },
  "cells": [
    {
      "cell_type": "markdown",
      "source": [
        "Najpierw uruchamiamy tą linię, żeby zainstalować pakieto do środowiska wykonawczego"
      ],
      "metadata": {
        "id": "Qfn3MI6hw8ay"
      }
    },
    {
      "cell_type": "code",
      "execution_count": null,
      "metadata": {
        "id": "AzhefKEJ4ggb"
      },
      "outputs": [],
      "source": [
        "!pip install --upgrade google-api-python-client google-auth-httplib2 google-auth-oauthlib"
      ]
    },
    {
      "cell_type": "markdown",
      "source": [
        "Następnie na końcu tej komórki uzupełniamy identyfikatory źródłowego i docelowego katalogu w Google Drive. Następnie klikamy play. Skrypt poprosi o autoryzacje Google Drive, po autoryzacji rozpocznie kopiowanie weryfikując czy dany plik/folder już istnieje w podanym katalogu czy nie. Skrypt obsługuje timeouty/wyjątki + rekurencyjnie sprawdza istnienie plików, żeby w razie zatrzymania i po uruchomieniu ponownie szybko przeskanował co już jest i kopiował tylko brakujące\n"
      ],
      "metadata": {
        "id": "BAF9o5kbw7Nr"
      }
    },
    {
      "cell_type": "code",
      "source": [
        "from google.colab import auth\n",
        "auth.authenticate_user()\n",
        "\n",
        "from googleapiclient.discovery import build\n",
        "from googleapiclient.errors import HttpError\n",
        "import time\n",
        "\n",
        "drive_service = build('drive', 'v3')\n",
        "def copy_drive_folder_between_ids(source_folder_id, target_folder_id):\n",
        "    from time import sleep\n",
        "\n",
        "    def safe_copy(file_id, body, max_retries=5):\n",
        "        for attempt in range(max_retries):\n",
        "            try:\n",
        "                drive_service.files().copy(fileId=file_id, body=body).execute()\n",
        "                return True\n",
        "            except Exception as e:\n",
        "                print(f\"⏳ Próba {attempt + 1} nieudana: {e}\")\n",
        "                sleep(2 ** attempt)\n",
        "        print(f\"❌ Nie udało się skopiować po {max_retries} próbach.\")\n",
        "        return False\n",
        "\n",
        "    def get_existing_items(folder_id):\n",
        "        existing = {}\n",
        "        page_token = None\n",
        "        while True:\n",
        "            response = drive_service.files().list(\n",
        "                q=f\"'{folder_id}' in parents and trashed=false\",\n",
        "                spaces='drive',\n",
        "                fields=\"nextPageToken, files(id, name, mimeType)\",\n",
        "                pageToken=page_token\n",
        "            ).execute()\n",
        "            for f in response.get('files', []):\n",
        "                existing[f['name']] = f\n",
        "            page_token = response.get('nextPageToken', None)\n",
        "            if page_token is None:\n",
        "                break\n",
        "        return existing\n",
        "\n",
        "    def copy_contents(src_id, dst_id):\n",
        "        dst_existing = get_existing_items(dst_id)\n",
        "\n",
        "        page_token = None\n",
        "        while True:\n",
        "            results = drive_service.files().list(\n",
        "                q=f\"'{src_id}' in parents and trashed=false\",\n",
        "                fields=\"nextPageToken, files(id, name, mimeType)\",\n",
        "                pageToken=page_token\n",
        "            ).execute()\n",
        "\n",
        "            for item in results.get('files', []):\n",
        "                name = item['name']\n",
        "                mime_type = item['mimeType']\n",
        "\n",
        "                # Jeśli folder już istnieje, wchodzimy do środka i kopiujemy dalej\n",
        "                if mime_type == 'application/vnd.google-apps.folder':\n",
        "                    if name in dst_existing:\n",
        "                        print(f\"📁 Folder już istnieje: {name} → kopiuję zawartość rekurencyjnie\")\n",
        "                        subfolder_id = dst_existing[name]['id']\n",
        "                    else:\n",
        "                        folder_metadata = {\n",
        "                            'name': name,\n",
        "                            'mimeType': mime_type,\n",
        "                            'parents': [dst_id]\n",
        "                        }\n",
        "                        subfolder = drive_service.files().create(body=folder_metadata, fields='id').execute()\n",
        "                        subfolder_id = subfolder['id']\n",
        "                        print(f\"📁 Utworzono folder: {name}\")\n",
        "\n",
        "                    # Rekurencja niezależnie od tego, czy folder był nowy czy nie\n",
        "                    copy_contents(item['id'], subfolder_id)\n",
        "\n",
        "                else:\n",
        "                    if name in dst_existing:\n",
        "                        print(f\"⏭️  Pominięto plik (już istnieje): {name}\")\n",
        "                        continue\n",
        "\n",
        "                    copied_file = {\n",
        "                        'name': name,\n",
        "                        'parents': [dst_id]\n",
        "                    }\n",
        "                    if safe_copy(item['id'], copied_file):\n",
        "                        print(f\"✅ Skopiowano plik: {name}\")\n",
        "                        sleep(0.2)\n",
        "\n",
        "            page_token = results.get('nextPageToken', None)\n",
        "            if page_token is None:\n",
        "                break\n",
        "\n",
        "    # Start kopiowania\n",
        "    copy_contents(source_folder_id, target_folder_id)\n",
        "source_folder_id = 'SOURCE_DIRECTORY_ID'\n",
        "target_folder_id = 'TARGET_DIRECTORY_ID'\n",
        "\n",
        "copy_drive_folder_between_ids(source_folder_id, target_folder_id)"
      ],
      "metadata": {
        "id": "R7UWMjKH4oaV"
      },
      "execution_count": null,
      "outputs": []
    }
  ]
}
